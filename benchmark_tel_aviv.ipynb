{
 "cells": [
  {
   "cell_type": "markdown",
   "metadata": {},
   "source": [
    "# Part I - Explanation of the problem and why it is interesting"
   ]
  },
  {
   "cell_type": "markdown",
   "metadata": {},
   "source": [
    "## 1 - Problem"
   ]
  },
  {
   "cell_type": "markdown",
   "metadata": {},
   "source": [
    "Indication: Clearly define a problem or an idea of your choice, where you would need to leverage the Foursquare location data to solve or execute. Remember that data science problems always target an audience and are meant to help a group of stakeholders solve a problem, so make sure that you explicitly describe your audience and why they would care about your problem."
   ]
  },
  {
   "cell_type": "markdown",
   "metadata": {},
   "source": [
    "Israel is a very specific place in the arabic world with very specific needs and demand. Since it is creation on the 14th of May 1948 after the vote by the ONU, it has been largely influenced by the international community and specifically the occidental culture.\n",
    "Nevertheless, Isreal remains part of the Arabic world and is affected by its culture.\n",
    "\n",
    "This combination of cultures makes the understanding of israely's culture and its consumption behaviour extremely difficult.\n",
    "\n",
    "Several international companies would like to understand better this context to establish a strategy plan for implementation.\n",
    "\n",
    "#### Nota bene: there is nothing politic about this notebook its purpose is purely scientific."
   ]
  },
  {
   "cell_type": "markdown",
   "metadata": {},
   "source": [
    "## 2 - Data"
   ]
  },
  {
   "cell_type": "markdown",
   "metadata": {},
   "source": [
    "Indication: Describe the data that you will be using to solve the problem or execute your idea. Remember that you will need to use the Foursquare location data to solve the problem or execute your idea. You can absolutely use other datasets in combination with the Foursquare location data. So make sure that you provide adequate explanation and discussion, with examples, of the data that you will be using, even if it is only Foursquare location data."
   ]
  },
  {
   "cell_type": "markdown",
   "metadata": {},
   "source": [
    "We would like to benchmark Israel's capital Tel Aviv versus two well known cities to establish the consumption behaviour of its population.\n",
    "\n",
    "For the benchmark, we have selected New York City and Amman for which we will be using Four Square's location data and compare the venues of the three cities in terms of shops, cafes, restaurant and so on. By establishing the profile in terms of venues in Four square we should be able to caracterise Tel Aviv and then compare it to AMman and New York City. We will then investigate the differences and conclude by identifying the best proxy.\n",
    "\n",
    "Indeed, the number of venues will be divided by the population of each city to remain consistent.\n",
    "\n",
    "If it happens that none of the two cities are close enough, we will iterate with other cities among the top 50 largest cities."
   ]
  },
  {
   "cell_type": "markdown",
   "metadata": {},
   "source": [
    "# Part II - Method to solve it"
   ]
  },
  {
   "cell_type": "markdown",
   "metadata": {},
   "source": [
    "## 0 - Import of libraries"
   ]
  },
  {
   "cell_type": "code",
   "execution_count": 1,
   "metadata": {},
   "outputs": [
    {
     "name": "stdout",
     "output_type": "stream",
     "text": [
      "Collecting package metadata (current_repodata.json): done\n",
      "Solving environment: done\n",
      "\n",
      "# All requested packages already installed.\n",
      "\n",
      "Libraries imported.\n"
     ]
    }
   ],
   "source": [
    "import numpy as np # library to handle data in a vectorized manner\n",
    "\n",
    "import pandas as pd # library for data analsysis\n",
    "pd.set_option('display.max_columns', None)\n",
    "pd.set_option('display.max_rows', None)\n",
    "\n",
    "import json # library to handle JSON files\n",
    "\n",
    "!conda install -c conda-forge geopy --yes # uncomment this line if you haven't completed the Foursquare API lab\n",
    "from geopy.geocoders import Nominatim # convert an address into latitude and longitude values\n",
    "\n",
    "import requests # library to handle requests\n",
    "from pandas.io.json import json_normalize # tranform JSON file into a pandas dataframe\n",
    "\n",
    "# Matplotlib and associated plotting modules\n",
    "import matplotlib.cm as cm\n",
    "import matplotlib.colors as colors\n",
    "\n",
    "# import k-means from clustering stage\n",
    "from sklearn.cluster import KMeans\n",
    "\n",
    "#!conda install -c conda-forge folium=0.5.0 --yes # uncomment this line if you haven't completed the Foursquare API lab\n",
    "import folium # map rendering library\n",
    "\n",
    "print('Libraries imported.')"
   ]
  },
  {
   "cell_type": "code",
   "execution_count": 2,
   "metadata": {},
   "outputs": [
    {
     "name": "stdout",
     "output_type": "stream",
     "text": [
      "Your credentails:\n",
      "CLIENT_ID: DCPMWEGCH0C2PZR13QN0IB0KEJSDLZMIPARV415TX5Y52FQ1\n",
      "CLIENT_SECRET: W3BY4ARSZPO4YLRLD4BHCEWHJKLZW5UJYHEHEVDPKVXGRZXX\n"
     ]
    }
   ],
   "source": [
    "CLIENT_ID = 'DCPMWEGCH0C2PZR13QN0IB0KEJSDLZMIPARV415TX5Y52FQ1' # your Foursquare ID\n",
    "CLIENT_SECRET = 'W3BY4ARSZPO4YLRLD4BHCEWHJKLZW5UJYHEHEVDPKVXGRZXX' # your Foursquare Secret\n",
    "VERSION = '20180605' # Foursquare API version\n",
    "\n",
    "print('Your credentails:')\n",
    "print('CLIENT_ID: ' + CLIENT_ID)\n",
    "print('CLIENT_SECRET: ' + CLIENT_SECRET)"
   ]
  },
  {
   "cell_type": "code",
   "execution_count": 3,
   "metadata": {},
   "outputs": [],
   "source": [
    "# function that extracts the category of the venue\n",
    "def get_category_type(row):\n",
    "    try:\n",
    "        categories_list = row['categories']\n",
    "    except:\n",
    "        categories_list = row['venue.categories']\n",
    "        \n",
    "    if len(categories_list) == 0:\n",
    "        return None\n",
    "    else:\n",
    "        return categories_list[0]['name']"
   ]
  },
  {
   "cell_type": "markdown",
   "metadata": {},
   "source": [
    "# 1 - Exploration: Amman"
   ]
  },
  {
   "cell_type": "code",
   "execution_count": 7,
   "metadata": {},
   "outputs": [
    {
     "name": "stdout",
     "output_type": "stream",
     "text": [
      "The geograpical coordinate of Amman are 31.9515694, 35.9239625.\n"
     ]
    }
   ],
   "source": [
    "address = 'Amman'\n",
    "\n",
    "geolocator = Nominatim(user_agent=\"my access\")\n",
    "location = geolocator.geocode(address)\n",
    "latitude = location.latitude\n",
    "longitude = location.longitude\n",
    "print('The geograpical coordinate of Amman are {}, {}.'.format(latitude, longitude))"
   ]
  },
  {
   "cell_type": "code",
   "execution_count": 8,
   "metadata": {},
   "outputs": [],
   "source": [
    "LIMIT = 1000 # limit of number of venues returned by Foursquare API\n",
    "\n",
    "radius = 10000 # define radius in meters\n",
    "\n",
    "# create URL\n",
    "\n",
    "url = 'https://api.foursquare.com/v2/venues/explore?&client_id={}&client_secret={}&v={}&ll={},{}&radius={}&limit={}'.format(\n",
    "    CLIENT_ID, \n",
    "    CLIENT_SECRET, \n",
    "    VERSION, \n",
    "    latitude, \n",
    "    longitude, \n",
    "    radius, \n",
    "    LIMIT)\n",
    "results = requests.get(url).json()"
   ]
  },
  {
   "cell_type": "code",
   "execution_count": 9,
   "metadata": {},
   "outputs": [
    {
     "data": {
      "text/html": [
       "<div>\n",
       "<style scoped>\n",
       "    .dataframe tbody tr th:only-of-type {\n",
       "        vertical-align: middle;\n",
       "    }\n",
       "\n",
       "    .dataframe tbody tr th {\n",
       "        vertical-align: top;\n",
       "    }\n",
       "\n",
       "    .dataframe thead th {\n",
       "        text-align: right;\n",
       "    }\n",
       "</style>\n",
       "<table border=\"1\" class=\"dataframe\">\n",
       "  <thead>\n",
       "    <tr style=\"text-align: right;\">\n",
       "      <th></th>\n",
       "      <th>name</th>\n",
       "      <th>categories</th>\n",
       "      <th>lat</th>\n",
       "      <th>lng</th>\n",
       "    </tr>\n",
       "  </thead>\n",
       "  <tbody>\n",
       "    <tr>\n",
       "      <th>0</th>\n",
       "      <td>Fakhr Al Din (مطعم فخر الدين)</td>\n",
       "      <td>Middle Eastern Restaurant</td>\n",
       "      <td>31.952205</td>\n",
       "      <td>35.920381</td>\n",
       "    </tr>\n",
       "    <tr>\n",
       "      <th>1</th>\n",
       "      <td>Jo Bedu (جوبدو)</td>\n",
       "      <td>Clothing Store</td>\n",
       "      <td>31.956443</td>\n",
       "      <td>35.926776</td>\n",
       "    </tr>\n",
       "    <tr>\n",
       "      <th>2</th>\n",
       "      <td>Mijana (ميجنا)</td>\n",
       "      <td>Café</td>\n",
       "      <td>31.950485</td>\n",
       "      <td>35.925520</td>\n",
       "    </tr>\n",
       "    <tr>\n",
       "      <th>3</th>\n",
       "      <td>Rumi Cafe (مقهى رومي)</td>\n",
       "      <td>Café</td>\n",
       "      <td>31.956113</td>\n",
       "      <td>35.925881</td>\n",
       "    </tr>\n",
       "    <tr>\n",
       "      <th>4</th>\n",
       "      <td>Falafel Al-Quds (فلافل القدس)</td>\n",
       "      <td>Falafel Restaurant</td>\n",
       "      <td>31.949464</td>\n",
       "      <td>35.926499</td>\n",
       "    </tr>\n",
       "  </tbody>\n",
       "</table>\n",
       "</div>"
      ],
      "text/plain": [
       "                            name                 categories        lat  \\\n",
       "0  Fakhr Al Din (مطعم فخر الدين)  Middle Eastern Restaurant  31.952205   \n",
       "1                Jo Bedu (جوبدو)             Clothing Store  31.956443   \n",
       "2                 Mijana (ميجنا)                       Café  31.950485   \n",
       "3          Rumi Cafe (مقهى رومي)                       Café  31.956113   \n",
       "4  Falafel Al-Quds (فلافل القدس)         Falafel Restaurant  31.949464   \n",
       "\n",
       "         lng  \n",
       "0  35.920381  \n",
       "1  35.926776  \n",
       "2  35.925520  \n",
       "3  35.925881  \n",
       "4  35.926499  "
      ]
     },
     "execution_count": 9,
     "metadata": {},
     "output_type": "execute_result"
    }
   ],
   "source": [
    "venues = results['response']['groups'][0]['items']\n",
    "    \n",
    "nearby_venues = json_normalize(venues) # flatten JSON\n",
    "\n",
    "# filter columns\n",
    "filtered_columns = ['venue.name', 'venue.categories', 'venue.location.lat', 'venue.location.lng']\n",
    "nearby_venues =nearby_venues.loc[:, filtered_columns]\n",
    "\n",
    "# filter the category for each row\n",
    "nearby_venues['venue.categories'] = nearby_venues.apply(get_category_type, axis=1)\n",
    "\n",
    "# clean columns\n",
    "nearby_venues.columns = [col.split(\".\")[-1] for col in nearby_venues.columns]\n",
    "\n",
    "nearby_venues.head()"
   ]
  },
  {
   "cell_type": "code",
   "execution_count": 10,
   "metadata": {},
   "outputs": [
    {
     "name": "stdout",
     "output_type": "stream",
     "text": [
      "100 venues were returned by Foursquare.\n"
     ]
    }
   ],
   "source": [
    "print('{} venues were returned by Foursquare.'.format(nearby_venues.shape[0]))"
   ]
  },
  {
   "cell_type": "code",
   "execution_count": 11,
   "metadata": {},
   "outputs": [
    {
     "data": {
      "text/html": [
       "<div>\n",
       "<style scoped>\n",
       "    .dataframe tbody tr th:only-of-type {\n",
       "        vertical-align: middle;\n",
       "    }\n",
       "\n",
       "    .dataframe tbody tr th {\n",
       "        vertical-align: top;\n",
       "    }\n",
       "\n",
       "    .dataframe thead th {\n",
       "        text-align: right;\n",
       "    }\n",
       "</style>\n",
       "<table border=\"1\" class=\"dataframe\">\n",
       "  <thead>\n",
       "    <tr style=\"text-align: right;\">\n",
       "      <th></th>\n",
       "      <th>categories</th>\n",
       "      <th>count</th>\n",
       "    </tr>\n",
       "  </thead>\n",
       "  <tbody>\n",
       "    <tr>\n",
       "      <th>0</th>\n",
       "      <td>Café</td>\n",
       "      <td>12</td>\n",
       "    </tr>\n",
       "    <tr>\n",
       "      <th>1</th>\n",
       "      <td>Hotel</td>\n",
       "      <td>8</td>\n",
       "    </tr>\n",
       "    <tr>\n",
       "      <th>2</th>\n",
       "      <td>Coffee Shop</td>\n",
       "      <td>6</td>\n",
       "    </tr>\n",
       "    <tr>\n",
       "      <th>3</th>\n",
       "      <td>Middle Eastern Restaurant</td>\n",
       "      <td>5</td>\n",
       "    </tr>\n",
       "    <tr>\n",
       "      <th>4</th>\n",
       "      <td>Italian Restaurant</td>\n",
       "      <td>5</td>\n",
       "    </tr>\n",
       "    <tr>\n",
       "      <th>5</th>\n",
       "      <td>Ice Cream Shop</td>\n",
       "      <td>4</td>\n",
       "    </tr>\n",
       "    <tr>\n",
       "      <th>6</th>\n",
       "      <td>Dessert Shop</td>\n",
       "      <td>4</td>\n",
       "    </tr>\n",
       "    <tr>\n",
       "      <th>7</th>\n",
       "      <td>Pub</td>\n",
       "      <td>3</td>\n",
       "    </tr>\n",
       "    <tr>\n",
       "      <th>8</th>\n",
       "      <td>Historic Site</td>\n",
       "      <td>3</td>\n",
       "    </tr>\n",
       "    <tr>\n",
       "      <th>9</th>\n",
       "      <td>Bakery</td>\n",
       "      <td>3</td>\n",
       "    </tr>\n",
       "  </tbody>\n",
       "</table>\n",
       "</div>"
      ],
      "text/plain": [
       "                  categories  count\n",
       "0                       Café     12\n",
       "1                      Hotel      8\n",
       "2                Coffee Shop      6\n",
       "3  Middle Eastern Restaurant      5\n",
       "4         Italian Restaurant      5\n",
       "5             Ice Cream Shop      4\n",
       "6               Dessert Shop      4\n",
       "7                        Pub      3\n",
       "8              Historic Site      3\n",
       "9                     Bakery      3"
      ]
     },
     "execution_count": 11,
     "metadata": {},
     "output_type": "execute_result"
    }
   ],
   "source": [
    "venues_grouped = nearby_venues.drop(['lat', 'lng'], axis=1).groupby('categories').count().sort_values(['name'], ascending=[False]).reset_index()\n",
    "venues_grouped.rename(columns={'name':'count'}, inplace=True)\n",
    "venues_grouped.head(10)"
   ]
  },
  {
   "cell_type": "code",
   "execution_count": null,
   "metadata": {},
   "outputs": [],
   "source": []
  },
  {
   "cell_type": "markdown",
   "metadata": {},
   "source": [
    "# 2 - Deploy the same analysis on other cities"
   ]
  },
  {
   "cell_type": "code",
   "execution_count": 4,
   "metadata": {},
   "outputs": [],
   "source": [
    "# function that extracts the category of the venue\n",
    "def collect_venues(address):\n",
    "    geolocator = Nominatim(user_agent=\"my access\")\n",
    "    location = geolocator.geocode(address)\n",
    "    latitude = location.latitude\n",
    "    longitude = location.longitude\n",
    "\n",
    "    LIMIT = 1000 # limit of number of venues returned by Foursquare API\n",
    "\n",
    "    radius = 5000 # define radius in meters\n",
    "\n",
    "    # create URL\n",
    "\n",
    "    url = 'https://api.foursquare.com/v2/venues/explore?&client_id={}&client_secret={}&v={}&ll={},{}&radius={}&limit={}'.format(\n",
    "        CLIENT_ID, \n",
    "        CLIENT_SECRET, \n",
    "        VERSION, \n",
    "        latitude, \n",
    "        longitude, \n",
    "        radius, \n",
    "        LIMIT)\n",
    "    results = requests.get(url).json()\n",
    "\n",
    "    venues = results['response']['groups'][0]['items']\n",
    "    \n",
    "    nearby_venues = json_normalize(venues) # flatten JSON\n",
    "\n",
    "    # filter columns\n",
    "    filtered_columns = ['venue.name', 'venue.location.city', 'venue.categories', 'venue.location.lat', 'venue.location.lng']\n",
    "    nearby_venues =nearby_venues.loc[:, filtered_columns]\n",
    "\n",
    "    # filter the category for each row\n",
    "    nearby_venues['venue.categories'] = nearby_venues.apply(get_category_type, axis=1)\n",
    "\n",
    "    # clean columns\n",
    "    nearby_venues.columns = [col.split(\".\")[-1] for col in nearby_venues.columns]\n",
    "    \n",
    "    # one hot encoding\n",
    "    result_onehot = pd.get_dummies(nearby_venues[['categories']], prefix=\"\", prefix_sep=\"\")\n",
    "\n",
    "    # add neighborhood column back to dataframe\n",
    "    #result_onehot['Name'] = nearby_venues['name']\n",
    "    result_onehot['City'] = address\n",
    "\n",
    "    # move neighborhood column to the first column\n",
    "    fixed_columns = [result_onehot.columns[-1]] + list(result_onehot.columns[:-1])\n",
    "    result_onehot = result_onehot[fixed_columns]\n",
    "    \n",
    "    result_onehot = result_onehot.groupby('City').mean().reset_index()    \n",
    "\n",
    "    return result_onehot"
   ]
  },
  {
   "cell_type": "code",
   "execution_count": 9,
   "metadata": {},
   "outputs": [],
   "source": [
    "#Collect a dataframe with the 50 largest cities with\n",
    "#largest_cities = ('Abidjan', 'Abu Dhabi', 'Abuja', 'Accra', 'Addis Ababa', 'Ahmedabad', 'Ahvaz', 'Alexandria', 'Algiers', 'Allahabad', 'Almaty', 'Ankara', 'Auckland', 'Baghdad', 'Baku', 'Bandung', 'Bangalore', 'Bangkok', 'Barcelona', 'Barranquilla', 'Basra', 'Beijing', 'Belgrade', 'Belo Horizonte', 'Berlin', 'Bhopal', 'Birmingham', 'Bogota', 'Brazzaville', 'Brisbane', 'Bucharest', 'Budapest', 'Buenos Aires', 'Bulawayo', 'Busan', 'Cairo', 'Calgary', 'Cali', 'Caloocan', 'Campinas', 'Cape Town', 'Caracas', 'Cartagena', 'Casablanca', 'Cebu City', 'Changchun', 'Changsha', 'Chaozhou', 'Chengdu', 'Chennai', 'Chicago', 'Chittagong', 'Chongqing', 'Cologne', 'Córdoba', 'Curitiba', 'Daegu', 'Daejeon', 'Dakar', 'Dalian', 'Dallas', 'Dar es Salaam', 'Davao City', 'Delhi', 'Dhaka', 'Dongguan', 'Douala', 'Dubai', 'Durban', 'Ekurhuleni', 'Faisalabad', 'Fez', 'Fortaleza', 'Foshan', 'Fukuoka', 'Fuzhou', 'Giza', 'Guadalajara', 'Guangzhou', 'Guatemala City', 'Guayaquil', 'Gujranwala', 'Gwangju', 'Hamburg', 'Hangzhou', 'Hanoi', 'Harare', 'Harbin', 'Havana', 'Hefei', 'Hiroshima', 'Ho Chi Minh City', 'Hong Kong', 'Houston', 'Hyderabad', 'Ibadan', 'Incheon', 'Isfahan', 'Islamabad', 'Istanbul', 'Izmir', 'Jaipur', 'Jakarta', 'Jeddah', 'Jinan', 'Johannesburg', 'Kabul', 'Kampala', 'Kano', 'Kanpur', 'Kaohsiung', 'Karaj', 'Kathmandu', 'Kawasaki', 'Kazan', 'Kharkiv', 'Khartoum', 'Kinshasa', 'Kobe', 'Kolkata', 'Kuala Lumpur', 'Kyiv', 'Kyoto', 'Lahore', 'Lanzhou', 'Lima', 'London', 'Los Angeles', 'Luanda', 'Lucknow', 'Lusaka', 'Madrid', 'Makassar', 'Managua', 'Manila', 'Maputo', 'Maracaibo', 'Mashhad', 'Medan', 'Medellin', 'Melbourne', 'Mexico City', 'Milan', 'Minsk', 'Monterrey', 'Montevideo', 'Montreal', 'Moscow', 'Multan', 'Mumbai', 'Munich', 'Nagoya', 'Nagpur', 'Nairobi', 'Nanjing', 'New Taipei City', 'New York', 'Ningbo', 'Nizhny Novgorod', 'Novosibirsk', 'Nur-Sultan', 'Omsk', 'Oran', 'Osaka', 'Ouagadougou', 'Palembang', 'Paris', 'Patna', 'Peshawar', 'Philadelphia', 'Phnom Penh', 'Phoenix', 'Porto Alegre', 'Prague', 'Pune', 'Pyongyang', 'Qingdao', 'Qom', 'Quanzhou', 'Quezon City', 'Quito', 'Rawalpindi', 'Recife', 'Rio de Janeiro', 'Riyadh', 'Rome', 'Rosario', 'Rostov-on-Don', 'Saint Petersburg', 'Saitama', 'Salvador', 'San Antonio', 'San Diego', 'Sana a', 'Santa Cruz de la Sierra', 'Santiago', 'São Paulo', 'Sapporo', 'Semarang', 'Seoul', 'Shanghai', 'Shantou', 'Shenyang', 'Shenzhen', 'Shijiazhuang', 'Shiraz', 'Singapore', 'Sofia', 'Surabaya', 'Surat', 'Suwon', 'Suzhou', 'Sydney', 'T bilisi', 'Tabriz', 'Taichung', 'Tainan', 'Taipei', 'Tangshan', 'Taoyuan', 'Tashkent', 'Tehran', 'Tel Aviv', 'Tianjin', 'Tijuana', 'Tokyo', 'Toronto', 'Tripoli', 'Tunis', 'Ulsan', 'Vienna', 'Vijayawada', 'Visakhapatnam', 'Warsaw', 'Wenzhou', 'Wuhan', 'Xi an', 'Xiamen', 'Yangon', 'Yaoundé', 'Yekaterinburg', 'Yerevan', 'Yokohama', 'Zhengzhou', 'Zhongshan', 'Zunyi')\n",
    "\n",
    "largest_cities = ('Abidjan', 'Abu Dhabi', 'Abuja', 'Accra', 'Addis Ababa', 'Ahmedabad', 'Ahvaz', 'Alexandria', 'Algiers', 'Allahabad', 'Almaty', 'Ankara', 'Auckland', 'Baghdad', 'Baku', 'Bandung', 'Bangalore', 'Bangkok', 'Barcelona', 'Barranquilla', 'Basra', 'Beijing', 'Belgrade', 'Belo Horizonte', 'Berlin', 'Bhopal', 'Birmingham', 'Bogota', 'Brazzaville', 'Brisbane', 'Bucharest', 'Budapest', 'Buenos Aires', 'Bulawayo', 'Busan', 'Cairo', 'Calgary', 'Cali', 'Caloocan', 'Campinas', 'Cape Town', 'Caracas', 'Cartagena', 'Casablanca', 'Cebu City', 'Changchun', 'Changsha', 'Chaozhou', 'Chengdu', 'Chennai', 'Chicago', 'Chittagong', 'Chongqing', 'Cologne', 'Córdoba', 'Curitiba', 'Daegu', 'Daejeon', 'Dakar', 'Dalian', 'Dallas', 'Dar es Salaam', 'Davao City', 'Delhi', 'Dhaka', 'Dongguan', 'Douala', 'Dubai', 'Durban', 'Ekurhuleni', 'Faisalabad', 'Fez', 'Fortaleza', 'Foshan', 'Fukuoka', 'Fuzhou', 'Giza', 'Guadalajara', 'Guangzhou', 'Guatemala City', 'Guayaquil', 'Gujranwala', 'Gwangju', 'Hamburg', 'Hangzhou', 'Hanoi', 'Harare', 'Harbin', 'Havana', 'Hefei', 'Hiroshima', 'Ho Chi Minh City', 'Hong Kong', 'Houston', 'Hyderabad', 'Ibadan', 'Incheon', 'Isfahan', 'Islamabad', 'Istanbul', 'Izmir', 'Jaipur', 'Jakarta', 'Jeddah', 'Jinan', 'Johannesburg', 'Kabul', 'Kampala', 'Kano', 'Kanpur', 'Kaohsiung', 'Karaj', 'Kathmandu', 'Kawasaki', 'Kazan', 'Kharkiv', 'Khartoum', 'Kinshasa', 'Kobe', 'Kolkata', 'Kuala Lumpur', 'Kyiv', 'Kyoto', 'Lahore', 'Lanzhou', 'Lima', 'London', 'Los Angeles', 'Luanda', 'Lucknow', 'Lusaka', 'Madrid', 'Makassar', 'Managua', 'Manila', 'Maputo', 'Maracaibo', 'Mashhad', 'Medan', 'Medellin', 'Melbourne', 'Mexico City', 'Milan', 'Minsk', 'Monterrey', 'Montevideo', 'Montreal', 'Moscow', 'Multan', 'Mumbai', 'Munich', 'Nagoya', 'Nagpur', 'Nairobi', 'Nanjing', 'New Taipei City', 'New York', 'Ningbo', 'Nizhny Novgorod', 'Novosibirsk', 'Nur-Sultan', 'Omsk', 'Oran', 'Osaka', 'Ouagadougou', 'Palembang', 'Paris', 'Patna', 'Peshawar', 'Philadelphia', 'Phnom Penh', 'Phoenix', 'Porto Alegre', 'Prague', 'Pune', 'Pyongyang', 'Qingdao', 'Qom', 'Quanzhou', 'Quezon City', 'Quito', 'Rawalpindi', 'Recife', 'Rio de Janeiro', 'Riyadh', 'Rome', 'Rosario', 'Rostov-on-Don', 'Saint Petersburg', 'Saitama', 'Salvador', 'San Antonio', 'San Diego', 'Sana a', 'Santa Cruz de la Sierra', 'Santiago', 'São Paulo', 'Sapporo', 'Semarang', 'Seoul', 'Shanghai', 'Shantou', 'Shenyang', 'Shenzhen', 'Shijiazhuang', 'Shiraz', 'Singapore', 'Sofia', 'Surabaya', 'Surat', 'Suwon', 'Suzhou', 'Sydney', 'T bilisi', 'Tabriz', 'Taichung', 'Tainan', 'Taipei', 'Tangshan', 'Taoyuan', 'Tashkent', 'Tehran', 'Tel Aviv', 'Tianjin', 'Tijuana', 'Tokyo', 'Toronto', 'Tripoli', 'Tunis', 'Ulsan', 'Vienna', 'Vijayawada', 'Visakhapatnam', 'Warsaw', 'Wenzhou', 'Wuhan', 'Xi an', 'Xiamen', 'Yangon', 'Yaoundé', 'Yekaterinburg', 'Yerevan', 'Yokohama', 'Zhengzhou', 'Zhongshan', 'Zunyi')"
   ]
  },
  {
   "cell_type": "code",
   "execution_count": 10,
   "metadata": {},
   "outputs": [
    {
     "name": "stdout",
     "output_type": "stream",
     "text": [
      "Abidjan\n",
      "Abu Dhabi\n",
      "Abuja\n",
      "Accra\n",
      "Addis Ababa\n",
      "Ahmedabad\n",
      "Ahvaz\n",
      "Alexandria\n",
      "Algiers\n",
      "Allahabad\n",
      "Almaty\n",
      "Ankara\n",
      "Auckland\n",
      "Baghdad\n",
      "Baku\n",
      "Bandung\n",
      "Bangalore\n",
      "Bangkok\n",
      "Barcelona\n",
      "Barranquilla\n",
      "Basra\n",
      "Beijing\n",
      "Belgrade\n",
      "Belo Horizonte\n",
      "Berlin\n",
      "Bhopal\n",
      "Birmingham\n",
      "Bogota\n",
      "Brazzaville\n",
      "Brisbane\n",
      "Bucharest\n",
      "Budapest\n",
      "Buenos Aires\n",
      "Bulawayo\n",
      "Busan\n",
      "Cairo\n",
      "Calgary\n",
      "Cali\n",
      "Caloocan\n",
      "Campinas\n",
      "Cape Town\n",
      "Caracas\n",
      "Cartagena\n",
      "Casablanca\n",
      "Cebu City\n",
      "Changchun\n",
      "Changsha\n",
      "Chaozhou\n",
      "Chengdu\n",
      "Chennai\n",
      "Chicago\n",
      "Chittagong\n",
      "Chongqing\n",
      "Cologne\n",
      "Córdoba\n",
      "Curitiba\n",
      "Daegu\n",
      "Daejeon\n",
      "Dakar\n",
      "Dalian\n",
      "Dallas\n",
      "Dar es Salaam\n",
      "Davao City\n",
      "Delhi\n",
      "Dhaka\n",
      "Dongguan\n",
      "Douala\n",
      "Dubai\n",
      "Durban\n",
      "Ekurhuleni\n",
      "Faisalabad\n",
      "Fez\n",
      "Fortaleza\n",
      "Foshan\n",
      "Fukuoka\n",
      "Fuzhou\n",
      "Giza\n",
      "Guadalajara\n",
      "Guangzhou\n",
      "Guatemala City\n",
      "Guayaquil\n",
      "Gujranwala\n",
      "Gwangju\n",
      "Hamburg\n",
      "Hangzhou\n",
      "Hanoi\n",
      "Harare\n",
      "Harbin\n",
      "Havana\n",
      "Hefei\n",
      "Hiroshima\n",
      "Ho Chi Minh City\n",
      "Hong Kong\n",
      "Houston\n",
      "Hyderabad\n",
      "Ibadan\n",
      "Incheon\n",
      "Isfahan\n",
      "Islamabad\n",
      "Istanbul\n",
      "Izmir\n",
      "Jaipur\n",
      "Jakarta\n",
      "Jeddah\n",
      "Jinan\n",
      "Johannesburg\n",
      "Kabul\n",
      "Kampala\n",
      "Kano\n",
      "Kanpur\n",
      "Kaohsiung\n",
      "Karaj\n",
      "Kathmandu\n",
      "Kawasaki\n",
      "Kazan\n",
      "Kharkiv\n",
      "Khartoum\n",
      "Kinshasa\n",
      "Kobe\n",
      "Kolkata\n",
      "Kuala Lumpur\n",
      "Kyiv\n",
      "Kyoto\n",
      "Lahore\n",
      "Lanzhou\n",
      "Lima\n",
      "London\n",
      "Los Angeles\n",
      "Luanda\n",
      "Lucknow\n",
      "Lusaka\n",
      "Madrid\n",
      "Makassar\n",
      "Managua\n",
      "Manila\n",
      "Maputo\n",
      "Maracaibo\n",
      "Mashhad\n",
      "Medan\n",
      "Medellin\n",
      "Melbourne\n",
      "Mexico City\n",
      "Milan\n",
      "Minsk\n",
      "Monterrey\n",
      "Montevideo\n",
      "Montreal\n",
      "Moscow\n",
      "Multan\n",
      "Mumbai\n",
      "Munich\n",
      "Nagoya\n",
      "Nagpur\n",
      "Nairobi\n",
      "Nanjing\n",
      "New Taipei City\n",
      "New York\n",
      "Ningbo\n",
      "Nizhny Novgorod\n",
      "Novosibirsk\n",
      "Nur-Sultan\n",
      "Omsk\n",
      "Oran\n",
      "Osaka\n",
      "Ouagadougou\n",
      "Palembang\n",
      "Paris\n",
      "Patna\n",
      "Peshawar\n",
      "Philadelphia\n",
      "Phnom Penh\n",
      "Phoenix\n",
      "Porto Alegre\n",
      "Prague\n",
      "Pune\n",
      "Pyongyang\n",
      "Qingdao\n",
      "Qom\n",
      "Quanzhou\n",
      "Quezon City\n",
      "Quito\n",
      "Rawalpindi\n",
      "Recife\n",
      "Rio de Janeiro\n",
      "Riyadh\n",
      "Rome\n",
      "Rosario\n",
      "Rostov-on-Don\n",
      "Saint Petersburg\n",
      "Saitama\n",
      "Salvador\n",
      "San Antonio\n",
      "San Diego\n",
      "Sana a\n",
      "Santa Cruz de la Sierra\n",
      "Santiago\n",
      "São Paulo\n",
      "Sapporo\n",
      "Semarang\n",
      "Seoul\n",
      "Shanghai\n",
      "Shantou\n",
      "Shenyang\n"
     ]
    },
    {
     "ename": "JSONDecodeError",
     "evalue": "Expecting value: line 1 column 1 (char 0)",
     "output_type": "error",
     "traceback": [
      "\u001b[0;31m---------------------------------------------------------------------------\u001b[0m",
      "\u001b[0;31mJSONDecodeError\u001b[0m                           Traceback (most recent call last)",
      "\u001b[0;32m<ipython-input-10-8fbf9d519f2f>\u001b[0m in \u001b[0;36m<module>\u001b[0;34m\u001b[0m\n\u001b[1;32m      6\u001b[0m \u001b[0;32mfor\u001b[0m \u001b[0mi\u001b[0m\u001b[0;34m,\u001b[0m \u001b[0mcity\u001b[0m \u001b[0;32min\u001b[0m \u001b[0menumerate\u001b[0m\u001b[0;34m(\u001b[0m\u001b[0mlargest_cities\u001b[0m\u001b[0;34m)\u001b[0m\u001b[0;34m:\u001b[0m\u001b[0;34m\u001b[0m\u001b[0;34m\u001b[0m\u001b[0m\n\u001b[1;32m      7\u001b[0m     \u001b[0mprint\u001b[0m\u001b[0;34m(\u001b[0m\u001b[0mcity\u001b[0m\u001b[0;34m)\u001b[0m\u001b[0;34m\u001b[0m\u001b[0;34m\u001b[0m\u001b[0m\n\u001b[0;32m----> 8\u001b[0;31m     \u001b[0mresult\u001b[0m \u001b[0;34m=\u001b[0m \u001b[0mcollect_venues\u001b[0m\u001b[0;34m(\u001b[0m\u001b[0mcity\u001b[0m\u001b[0;34m)\u001b[0m\u001b[0;34m\u001b[0m\u001b[0;34m\u001b[0m\u001b[0m\n\u001b[0m\u001b[1;32m      9\u001b[0m     \u001b[0mglobal_df\u001b[0m \u001b[0;34m=\u001b[0m \u001b[0mglobal_df\u001b[0m\u001b[0;34m.\u001b[0m\u001b[0mappend\u001b[0m\u001b[0;34m(\u001b[0m\u001b[0mresult\u001b[0m\u001b[0;34m,\u001b[0m \u001b[0msort\u001b[0m\u001b[0;34m=\u001b[0m\u001b[0;32mTrue\u001b[0m\u001b[0;34m)\u001b[0m\u001b[0;34m\u001b[0m\u001b[0;34m\u001b[0m\u001b[0m\n\u001b[1;32m     10\u001b[0m \u001b[0;34m\u001b[0m\u001b[0m\n",
      "\u001b[0;32m<ipython-input-4-5b6d88a6ec5b>\u001b[0m in \u001b[0;36mcollect_venues\u001b[0;34m(address)\u001b[0m\n\u001b[1;32m     20\u001b[0m         \u001b[0mradius\u001b[0m\u001b[0;34m,\u001b[0m\u001b[0;34m\u001b[0m\u001b[0;34m\u001b[0m\u001b[0m\n\u001b[1;32m     21\u001b[0m         LIMIT)\n\u001b[0;32m---> 22\u001b[0;31m     \u001b[0mresults\u001b[0m \u001b[0;34m=\u001b[0m \u001b[0mrequests\u001b[0m\u001b[0;34m.\u001b[0m\u001b[0mget\u001b[0m\u001b[0;34m(\u001b[0m\u001b[0murl\u001b[0m\u001b[0;34m)\u001b[0m\u001b[0;34m.\u001b[0m\u001b[0mjson\u001b[0m\u001b[0;34m(\u001b[0m\u001b[0;34m)\u001b[0m\u001b[0;34m\u001b[0m\u001b[0;34m\u001b[0m\u001b[0m\n\u001b[0m\u001b[1;32m     23\u001b[0m \u001b[0;34m\u001b[0m\u001b[0m\n\u001b[1;32m     24\u001b[0m     \u001b[0mvenues\u001b[0m \u001b[0;34m=\u001b[0m \u001b[0mresults\u001b[0m\u001b[0;34m[\u001b[0m\u001b[0;34m'response'\u001b[0m\u001b[0;34m]\u001b[0m\u001b[0;34m[\u001b[0m\u001b[0;34m'groups'\u001b[0m\u001b[0;34m]\u001b[0m\u001b[0;34m[\u001b[0m\u001b[0;36m0\u001b[0m\u001b[0;34m]\u001b[0m\u001b[0;34m[\u001b[0m\u001b[0;34m'items'\u001b[0m\u001b[0;34m]\u001b[0m\u001b[0;34m\u001b[0m\u001b[0;34m\u001b[0m\u001b[0m\n",
      "\u001b[0;32m~/anaconda3/lib/python3.7/site-packages/requests/models.py\u001b[0m in \u001b[0;36mjson\u001b[0;34m(self, **kwargs)\u001b[0m\n\u001b[1;32m    895\u001b[0m                     \u001b[0;31m# used.\u001b[0m\u001b[0;34m\u001b[0m\u001b[0;34m\u001b[0m\u001b[0;34m\u001b[0m\u001b[0m\n\u001b[1;32m    896\u001b[0m                     \u001b[0;32mpass\u001b[0m\u001b[0;34m\u001b[0m\u001b[0;34m\u001b[0m\u001b[0m\n\u001b[0;32m--> 897\u001b[0;31m         \u001b[0;32mreturn\u001b[0m \u001b[0mcomplexjson\u001b[0m\u001b[0;34m.\u001b[0m\u001b[0mloads\u001b[0m\u001b[0;34m(\u001b[0m\u001b[0mself\u001b[0m\u001b[0;34m.\u001b[0m\u001b[0mtext\u001b[0m\u001b[0;34m,\u001b[0m \u001b[0;34m**\u001b[0m\u001b[0mkwargs\u001b[0m\u001b[0;34m)\u001b[0m\u001b[0;34m\u001b[0m\u001b[0;34m\u001b[0m\u001b[0m\n\u001b[0m\u001b[1;32m    898\u001b[0m \u001b[0;34m\u001b[0m\u001b[0m\n\u001b[1;32m    899\u001b[0m     \u001b[0;34m@\u001b[0m\u001b[0mproperty\u001b[0m\u001b[0;34m\u001b[0m\u001b[0;34m\u001b[0m\u001b[0m\n",
      "\u001b[0;32m~/anaconda3/lib/python3.7/json/__init__.py\u001b[0m in \u001b[0;36mloads\u001b[0;34m(s, encoding, cls, object_hook, parse_float, parse_int, parse_constant, object_pairs_hook, **kw)\u001b[0m\n\u001b[1;32m    346\u001b[0m             \u001b[0mparse_int\u001b[0m \u001b[0;32mis\u001b[0m \u001b[0;32mNone\u001b[0m \u001b[0;32mand\u001b[0m \u001b[0mparse_float\u001b[0m \u001b[0;32mis\u001b[0m \u001b[0;32mNone\u001b[0m \u001b[0;32mand\u001b[0m\u001b[0;34m\u001b[0m\u001b[0;34m\u001b[0m\u001b[0m\n\u001b[1;32m    347\u001b[0m             parse_constant is None and object_pairs_hook is None and not kw):\n\u001b[0;32m--> 348\u001b[0;31m         \u001b[0;32mreturn\u001b[0m \u001b[0m_default_decoder\u001b[0m\u001b[0;34m.\u001b[0m\u001b[0mdecode\u001b[0m\u001b[0;34m(\u001b[0m\u001b[0ms\u001b[0m\u001b[0;34m)\u001b[0m\u001b[0;34m\u001b[0m\u001b[0;34m\u001b[0m\u001b[0m\n\u001b[0m\u001b[1;32m    349\u001b[0m     \u001b[0;32mif\u001b[0m \u001b[0mcls\u001b[0m \u001b[0;32mis\u001b[0m \u001b[0;32mNone\u001b[0m\u001b[0;34m:\u001b[0m\u001b[0;34m\u001b[0m\u001b[0;34m\u001b[0m\u001b[0m\n\u001b[1;32m    350\u001b[0m         \u001b[0mcls\u001b[0m \u001b[0;34m=\u001b[0m \u001b[0mJSONDecoder\u001b[0m\u001b[0;34m\u001b[0m\u001b[0;34m\u001b[0m\u001b[0m\n",
      "\u001b[0;32m~/anaconda3/lib/python3.7/json/decoder.py\u001b[0m in \u001b[0;36mdecode\u001b[0;34m(self, s, _w)\u001b[0m\n\u001b[1;32m    335\u001b[0m \u001b[0;34m\u001b[0m\u001b[0m\n\u001b[1;32m    336\u001b[0m         \"\"\"\n\u001b[0;32m--> 337\u001b[0;31m         \u001b[0mobj\u001b[0m\u001b[0;34m,\u001b[0m \u001b[0mend\u001b[0m \u001b[0;34m=\u001b[0m \u001b[0mself\u001b[0m\u001b[0;34m.\u001b[0m\u001b[0mraw_decode\u001b[0m\u001b[0;34m(\u001b[0m\u001b[0ms\u001b[0m\u001b[0;34m,\u001b[0m \u001b[0midx\u001b[0m\u001b[0;34m=\u001b[0m\u001b[0m_w\u001b[0m\u001b[0;34m(\u001b[0m\u001b[0ms\u001b[0m\u001b[0;34m,\u001b[0m \u001b[0;36m0\u001b[0m\u001b[0;34m)\u001b[0m\u001b[0;34m.\u001b[0m\u001b[0mend\u001b[0m\u001b[0;34m(\u001b[0m\u001b[0;34m)\u001b[0m\u001b[0;34m)\u001b[0m\u001b[0;34m\u001b[0m\u001b[0;34m\u001b[0m\u001b[0m\n\u001b[0m\u001b[1;32m    338\u001b[0m         \u001b[0mend\u001b[0m \u001b[0;34m=\u001b[0m \u001b[0m_w\u001b[0m\u001b[0;34m(\u001b[0m\u001b[0ms\u001b[0m\u001b[0;34m,\u001b[0m \u001b[0mend\u001b[0m\u001b[0;34m)\u001b[0m\u001b[0;34m.\u001b[0m\u001b[0mend\u001b[0m\u001b[0;34m(\u001b[0m\u001b[0;34m)\u001b[0m\u001b[0;34m\u001b[0m\u001b[0;34m\u001b[0m\u001b[0m\n\u001b[1;32m    339\u001b[0m         \u001b[0;32mif\u001b[0m \u001b[0mend\u001b[0m \u001b[0;34m!=\u001b[0m \u001b[0mlen\u001b[0m\u001b[0;34m(\u001b[0m\u001b[0ms\u001b[0m\u001b[0;34m)\u001b[0m\u001b[0;34m:\u001b[0m\u001b[0;34m\u001b[0m\u001b[0;34m\u001b[0m\u001b[0m\n",
      "\u001b[0;32m~/anaconda3/lib/python3.7/json/decoder.py\u001b[0m in \u001b[0;36mraw_decode\u001b[0;34m(self, s, idx)\u001b[0m\n\u001b[1;32m    353\u001b[0m             \u001b[0mobj\u001b[0m\u001b[0;34m,\u001b[0m \u001b[0mend\u001b[0m \u001b[0;34m=\u001b[0m \u001b[0mself\u001b[0m\u001b[0;34m.\u001b[0m\u001b[0mscan_once\u001b[0m\u001b[0;34m(\u001b[0m\u001b[0ms\u001b[0m\u001b[0;34m,\u001b[0m \u001b[0midx\u001b[0m\u001b[0;34m)\u001b[0m\u001b[0;34m\u001b[0m\u001b[0;34m\u001b[0m\u001b[0m\n\u001b[1;32m    354\u001b[0m         \u001b[0;32mexcept\u001b[0m \u001b[0mStopIteration\u001b[0m \u001b[0;32mas\u001b[0m \u001b[0merr\u001b[0m\u001b[0;34m:\u001b[0m\u001b[0;34m\u001b[0m\u001b[0;34m\u001b[0m\u001b[0m\n\u001b[0;32m--> 355\u001b[0;31m             \u001b[0;32mraise\u001b[0m \u001b[0mJSONDecodeError\u001b[0m\u001b[0;34m(\u001b[0m\u001b[0;34m\"Expecting value\"\u001b[0m\u001b[0;34m,\u001b[0m \u001b[0ms\u001b[0m\u001b[0;34m,\u001b[0m \u001b[0merr\u001b[0m\u001b[0;34m.\u001b[0m\u001b[0mvalue\u001b[0m\u001b[0;34m)\u001b[0m \u001b[0;32mfrom\u001b[0m \u001b[0;32mNone\u001b[0m\u001b[0;34m\u001b[0m\u001b[0;34m\u001b[0m\u001b[0m\n\u001b[0m\u001b[1;32m    356\u001b[0m         \u001b[0;32mreturn\u001b[0m \u001b[0mobj\u001b[0m\u001b[0;34m,\u001b[0m \u001b[0mend\u001b[0m\u001b[0;34m\u001b[0m\u001b[0;34m\u001b[0m\u001b[0m\n",
      "\u001b[0;31mJSONDecodeError\u001b[0m: Expecting value: line 1 column 1 (char 0)"
     ]
    }
   ],
   "source": [
    "column_name = list()\n",
    "result = pd.DataFrame()\n",
    "\n",
    "global_df = pd.DataFrame()\n",
    "\n",
    "for i, city in enumerate(largest_cities):\n",
    "    print(city)\n",
    "    result = collect_venues(city)\n",
    "    global_df = global_df.append(result, sort=True)\n",
    "\n",
    "global_df.fillna(0, inplace=True)\n",
    "global_df.set_index('City', inplace=True)\n",
    "global_df.head()"
   ]
  },
  {
   "cell_type": "code",
   "execution_count": 23,
   "metadata": {},
   "outputs": [
    {
     "ename": "ValueError",
     "evalue": "could not convert string to float: 'Hyderabad'",
     "output_type": "error",
     "traceback": [
      "\u001b[0;31m---------------------------------------------------------------------------\u001b[0m",
      "\u001b[0;31mValueError\u001b[0m                                Traceback (most recent call last)",
      "\u001b[0;32m<ipython-input-23-b58bf89a71ae>\u001b[0m in \u001b[0;36m<module>\u001b[0;34m\u001b[0m\n\u001b[1;32m      1\u001b[0m \u001b[0mk_means\u001b[0m \u001b[0;34m=\u001b[0m \u001b[0mKMeans\u001b[0m\u001b[0;34m(\u001b[0m\u001b[0minit\u001b[0m \u001b[0;34m=\u001b[0m \u001b[0;34m\"k-means++\"\u001b[0m\u001b[0;34m,\u001b[0m \u001b[0mn_clusters\u001b[0m \u001b[0;34m=\u001b[0m \u001b[0;36m7\u001b[0m\u001b[0;34m,\u001b[0m \u001b[0mn_init\u001b[0m \u001b[0;34m=\u001b[0m \u001b[0;36m40\u001b[0m\u001b[0;34m)\u001b[0m\u001b[0;34m\u001b[0m\u001b[0;34m\u001b[0m\u001b[0m\n\u001b[0;32m----> 2\u001b[0;31m \u001b[0mk_means\u001b[0m\u001b[0;34m.\u001b[0m\u001b[0mfit\u001b[0m\u001b[0;34m(\u001b[0m\u001b[0mglobal_df\u001b[0m\u001b[0;34m)\u001b[0m\u001b[0;34m\u001b[0m\u001b[0;34m\u001b[0m\u001b[0m\n\u001b[0m\u001b[1;32m      3\u001b[0m \u001b[0mk_means_labels\u001b[0m \u001b[0;34m=\u001b[0m \u001b[0mk_means\u001b[0m\u001b[0;34m.\u001b[0m\u001b[0mlabels_\u001b[0m\u001b[0;34m\u001b[0m\u001b[0;34m\u001b[0m\u001b[0m\n\u001b[1;32m      4\u001b[0m \u001b[0mk_means_labels\u001b[0m\u001b[0;34m\u001b[0m\u001b[0;34m\u001b[0m\u001b[0m\n",
      "\u001b[0;32m~/anaconda3/lib/python3.7/site-packages/sklearn/cluster/k_means_.py\u001b[0m in \u001b[0;36mfit\u001b[0;34m(self, X, y, sample_weight)\u001b[0m\n\u001b[1;32m    967\u001b[0m                 \u001b[0mtol\u001b[0m\u001b[0;34m=\u001b[0m\u001b[0mself\u001b[0m\u001b[0;34m.\u001b[0m\u001b[0mtol\u001b[0m\u001b[0;34m,\u001b[0m \u001b[0mrandom_state\u001b[0m\u001b[0;34m=\u001b[0m\u001b[0mrandom_state\u001b[0m\u001b[0;34m,\u001b[0m \u001b[0mcopy_x\u001b[0m\u001b[0;34m=\u001b[0m\u001b[0mself\u001b[0m\u001b[0;34m.\u001b[0m\u001b[0mcopy_x\u001b[0m\u001b[0;34m,\u001b[0m\u001b[0;34m\u001b[0m\u001b[0;34m\u001b[0m\u001b[0m\n\u001b[1;32m    968\u001b[0m                 \u001b[0mn_jobs\u001b[0m\u001b[0;34m=\u001b[0m\u001b[0mself\u001b[0m\u001b[0;34m.\u001b[0m\u001b[0mn_jobs\u001b[0m\u001b[0;34m,\u001b[0m \u001b[0malgorithm\u001b[0m\u001b[0;34m=\u001b[0m\u001b[0mself\u001b[0m\u001b[0;34m.\u001b[0m\u001b[0malgorithm\u001b[0m\u001b[0;34m,\u001b[0m\u001b[0;34m\u001b[0m\u001b[0;34m\u001b[0m\u001b[0m\n\u001b[0;32m--> 969\u001b[0;31m                 return_n_iter=True)\n\u001b[0m\u001b[1;32m    970\u001b[0m         \u001b[0;32mreturn\u001b[0m \u001b[0mself\u001b[0m\u001b[0;34m\u001b[0m\u001b[0;34m\u001b[0m\u001b[0m\n\u001b[1;32m    971\u001b[0m \u001b[0;34m\u001b[0m\u001b[0m\n",
      "\u001b[0;32m~/anaconda3/lib/python3.7/site-packages/sklearn/cluster/k_means_.py\u001b[0m in \u001b[0;36mk_means\u001b[0;34m(X, n_clusters, sample_weight, init, precompute_distances, n_init, max_iter, verbose, tol, random_state, copy_x, n_jobs, algorithm, return_n_iter)\u001b[0m\n\u001b[1;32m    307\u001b[0m     \u001b[0morder\u001b[0m \u001b[0;34m=\u001b[0m \u001b[0;34m\"C\"\u001b[0m \u001b[0;32mif\u001b[0m \u001b[0mcopy_x\u001b[0m \u001b[0;32melse\u001b[0m \u001b[0;32mNone\u001b[0m\u001b[0;34m\u001b[0m\u001b[0;34m\u001b[0m\u001b[0m\n\u001b[1;32m    308\u001b[0m     X = check_array(X, accept_sparse='csr', dtype=[np.float64, np.float32],\n\u001b[0;32m--> 309\u001b[0;31m                     order=order, copy=copy_x)\n\u001b[0m\u001b[1;32m    310\u001b[0m     \u001b[0;31m# verify that the number of samples given is larger than k\u001b[0m\u001b[0;34m\u001b[0m\u001b[0;34m\u001b[0m\u001b[0;34m\u001b[0m\u001b[0m\n\u001b[1;32m    311\u001b[0m     \u001b[0;32mif\u001b[0m \u001b[0m_num_samples\u001b[0m\u001b[0;34m(\u001b[0m\u001b[0mX\u001b[0m\u001b[0;34m)\u001b[0m \u001b[0;34m<\u001b[0m \u001b[0mn_clusters\u001b[0m\u001b[0;34m:\u001b[0m\u001b[0;34m\u001b[0m\u001b[0;34m\u001b[0m\u001b[0m\n",
      "\u001b[0;32m~/anaconda3/lib/python3.7/site-packages/sklearn/utils/validation.py\u001b[0m in \u001b[0;36mcheck_array\u001b[0;34m(array, accept_sparse, accept_large_sparse, dtype, order, copy, force_all_finite, ensure_2d, allow_nd, ensure_min_samples, ensure_min_features, warn_on_dtype, estimator)\u001b[0m\n\u001b[1;32m    494\u001b[0m             \u001b[0;32mtry\u001b[0m\u001b[0;34m:\u001b[0m\u001b[0;34m\u001b[0m\u001b[0;34m\u001b[0m\u001b[0m\n\u001b[1;32m    495\u001b[0m                 \u001b[0mwarnings\u001b[0m\u001b[0;34m.\u001b[0m\u001b[0msimplefilter\u001b[0m\u001b[0;34m(\u001b[0m\u001b[0;34m'error'\u001b[0m\u001b[0;34m,\u001b[0m \u001b[0mComplexWarning\u001b[0m\u001b[0;34m)\u001b[0m\u001b[0;34m\u001b[0m\u001b[0;34m\u001b[0m\u001b[0m\n\u001b[0;32m--> 496\u001b[0;31m                 \u001b[0marray\u001b[0m \u001b[0;34m=\u001b[0m \u001b[0mnp\u001b[0m\u001b[0;34m.\u001b[0m\u001b[0masarray\u001b[0m\u001b[0;34m(\u001b[0m\u001b[0marray\u001b[0m\u001b[0;34m,\u001b[0m \u001b[0mdtype\u001b[0m\u001b[0;34m=\u001b[0m\u001b[0mdtype\u001b[0m\u001b[0;34m,\u001b[0m \u001b[0morder\u001b[0m\u001b[0;34m=\u001b[0m\u001b[0morder\u001b[0m\u001b[0;34m)\u001b[0m\u001b[0;34m\u001b[0m\u001b[0;34m\u001b[0m\u001b[0m\n\u001b[0m\u001b[1;32m    497\u001b[0m             \u001b[0;32mexcept\u001b[0m \u001b[0mComplexWarning\u001b[0m\u001b[0;34m:\u001b[0m\u001b[0;34m\u001b[0m\u001b[0;34m\u001b[0m\u001b[0m\n\u001b[1;32m    498\u001b[0m                 raise ValueError(\"Complex data not supported\\n\"\n",
      "\u001b[0;32m~/anaconda3/lib/python3.7/site-packages/numpy/core/numeric.py\u001b[0m in \u001b[0;36masarray\u001b[0;34m(a, dtype, order)\u001b[0m\n\u001b[1;32m    536\u001b[0m \u001b[0;34m\u001b[0m\u001b[0m\n\u001b[1;32m    537\u001b[0m     \"\"\"\n\u001b[0;32m--> 538\u001b[0;31m     \u001b[0;32mreturn\u001b[0m \u001b[0marray\u001b[0m\u001b[0;34m(\u001b[0m\u001b[0ma\u001b[0m\u001b[0;34m,\u001b[0m \u001b[0mdtype\u001b[0m\u001b[0;34m,\u001b[0m \u001b[0mcopy\u001b[0m\u001b[0;34m=\u001b[0m\u001b[0;32mFalse\u001b[0m\u001b[0;34m,\u001b[0m \u001b[0morder\u001b[0m\u001b[0;34m=\u001b[0m\u001b[0morder\u001b[0m\u001b[0;34m)\u001b[0m\u001b[0;34m\u001b[0m\u001b[0;34m\u001b[0m\u001b[0m\n\u001b[0m\u001b[1;32m    539\u001b[0m \u001b[0;34m\u001b[0m\u001b[0m\n\u001b[1;32m    540\u001b[0m \u001b[0;34m\u001b[0m\u001b[0m\n",
      "\u001b[0;31mValueError\u001b[0m: could not convert string to float: 'Hyderabad'"
     ]
    }
   ],
   "source": [
    "k_means = KMeans(init = \"k-means++\", n_clusters = 7, n_init = 40)\n",
    "k_means.fit(global_df)\n",
    "k_means_labels = k_means.labels_\n",
    "k_means_labels"
   ]
  },
  {
   "cell_type": "code",
   "execution_count": 11,
   "metadata": {},
   "outputs": [],
   "source": [
    "result = collect_venues('Shenyang')"
   ]
  },
  {
   "cell_type": "code",
   "execution_count": null,
   "metadata": {},
   "outputs": [],
   "source": []
  },
  {
   "cell_type": "code",
   "execution_count": null,
   "metadata": {},
   "outputs": [],
   "source": []
  },
  {
   "cell_type": "code",
   "execution_count": null,
   "metadata": {},
   "outputs": [],
   "source": []
  },
  {
   "cell_type": "code",
   "execution_count": 32,
   "metadata": {},
   "outputs": [],
   "source": []
  },
  {
   "cell_type": "code",
   "execution_count": null,
   "metadata": {},
   "outputs": [],
   "source": []
  }
 ],
 "metadata": {
  "kernelspec": {
   "display_name": "Python 3",
   "language": "python",
   "name": "python3"
  },
  "language_info": {
   "codemirror_mode": {
    "name": "ipython",
    "version": 3
   },
   "file_extension": ".py",
   "mimetype": "text/x-python",
   "name": "python",
   "nbconvert_exporter": "python",
   "pygments_lexer": "ipython3",
   "version": "3.7.3"
  }
 },
 "nbformat": 4,
 "nbformat_minor": 2
}
